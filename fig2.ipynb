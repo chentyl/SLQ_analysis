{
 "cells": [
  {
   "cell_type": "code",
   "execution_count": 1,
   "metadata": {},
   "outputs": [],
   "source": [
    "import numpy as np\n",
    "import scipy as sp\n",
    "import os\n",
    "from scipy import io,integrate,sparse\n",
    "import matplotlib.pyplot as plt\n",
    "from matplotlib.lines import Line2D\n",
    "from mpl_toolkits.axes_grid1.inset_locator import inset_axes\n",
    "from mpl_toolkits.axes_grid1.inset_locator import mark_inset\n",
    "\n",
    "\n",
    "from lanczos_bin import *\n",
    "\n",
    "from IPython.display import clear_output\n",
    "%load_ext autoreload\n",
    "%autoreload 2"
   ]
  },
  {
   "cell_type": "code",
   "execution_count": 2,
   "metadata": {},
   "outputs": [],
   "source": [
    "plt.rcParams['text.latex.preamble'] = r'\\renewcommand{\\vec}{\\mathbf}'\n",
    "plt.rc('text', usetex=True)\n",
    "plt.rc('font', family='serif')"
   ]
  },
  {
   "cell_type": "code",
   "execution_count": 3,
   "metadata": {},
   "outputs": [],
   "source": [
    "os.makedirs(\"data/wass\", exist_ok=True)"
   ]
  },
  {
   "cell_type": "code",
   "execution_count": 4,
   "metadata": {},
   "outputs": [],
   "source": [
    "problems = [{'name':'California',\n",
    "             'Ks':np.unique(np.logspace(1,np.log10(1200),15,dtype='int')),\n",
    "             'n_samples':6,\n",
    "            },\n",
    "            {'name':'Erdos992',\n",
    "             'Ks':np.unique(np.logspace(1,np.log10(800),15,dtype='int')),\n",
    "             'n_samples':9,\n",
    "            },\n",
    "            {'name':'MNIST_cov',\n",
    "             'Ks':np.unique(np.logspace(1,np.log10(500),15,dtype='int')),\n",
    "             'n_samples':68\n",
    "            },\n",
    "            {'name':'uniform',\n",
    "             'Ks':np.unique(np.logspace(1,np.log10(200),15,dtype='int')),\n",
    "             'n_samples':11\n",
    "            },]"
   ]
  },
  {
   "cell_type": "code",
   "execution_count": 5,
   "metadata": {},
   "outputs": [
    {
     "name": "stdout",
     "output_type": "stream",
     "text": [
      "California\n",
      "Erdos992\n",
      "MNIST_cov\n",
      "uniform\n"
     ]
    }
   ],
   "source": [
    "# generate data\n",
    "if True:\n",
    "    for problem in problems:\n",
    "\n",
    "        name = problem['name']\n",
    "        n_samples = problem['n_samples']\n",
    "        Ks = problem['Ks']\n",
    "\n",
    "        lam = np.load(f\"matrices/{name}_eigs.npy\")\n",
    "        \n",
    "        print(name)\n",
    "        np.save(f'data/wass/{name}_GQs',get_GQs(lam,n_samples,Ks,reorth=True),allow_pickle=True)"
   ]
  },
  {
   "cell_type": "code",
   "execution_count": 6,
   "metadata": {},
   "outputs": [
    {
     "name": "stdout",
     "output_type": "stream",
     "text": [
      "California\n",
      "Erdos992\n",
      "MNIST_cov\n",
      "uniform\n"
     ]
    }
   ],
   "source": [
    "# generate bounds\n",
    "if True:\n",
    "    for problem in problems:\n",
    "\n",
    "        name = problem['name']\n",
    "        lam = np.load(f\"matrices/{name}_eigs.npy\")\n",
    "\n",
    "        GQs,vs = np.load(f'data/wass/{name}_GQs.npy',allow_pickle=True)\n",
    "\n",
    "        print(name)\n",
    "        np.save(f'data/wass/{name}',W_experiment(GQs,lam,vs,np.min(lam),np.max(lam)),allow_pickle=True)"
   ]
  },
  {
   "cell_type": "code",
   "execution_count": 7,
   "metadata": {},
   "outputs": [],
   "source": [
    "# parse resnet example\n",
    "Ks = np.logspace(1,np.log10(3000),15,dtype='int')\n",
    "\n",
    "n_samples = 2\n",
    "\n",
    "GQ = {k:[] for k in Ks}\n",
    "GQ_lower = {k:[] for k in Ks}\n",
    "GQ_upper = {k:[] for k in Ks}\n",
    "\n",
    "for trial in range(n_samples):\n",
    "    a_,b_ = np.load(f'data/resnet20_cifar10_3000_{trial}.npy',allow_pickle=True)\n",
    "\n",
    "    for k in Ks:\n",
    "        GQ[k].append(get_GQ_distr(a_[:k],b_[:k-1]))\n",
    "        lb,ub = np.min(GQ[k][-1].support),np.max(GQ[k][-1].support)\n",
    "        \n",
    "        # define upper and lower bounds\n",
    "        GQ_lower[k].append(get_GQ_lower_bound(GQ[k][-1],lb,ub))\n",
    "        GQ_upper[k].append(get_GQ_upper_bound(GQ[k][-1],lb,ub))\n",
    "\n",
    "GQ_ave = {}\n",
    "GQ_lower_ave = {}\n",
    "GQ_upper_ave = {}\n",
    "\n",
    "for k in Ks:\n",
    "   # average bounds\n",
    "    GQ_ave[k] = get_ave_distr(GQ[k])\n",
    "    GQ_lower_ave[k] = get_ave_distr(GQ_lower[k])\n",
    "    GQ_upper_ave[k] = get_ave_distr(GQ_upper[k]) \n",
    "\n",
    "t_W_bd = np.array([d_Wbd(GQ_ave[k],-5.8,189.5) for k in Ks])\n",
    "\n",
    "np.save(f'data/wass/resnet20',[n_samples,Ks,-1,t_W_bd,GQ_ave],allow_pickle=True)"
   ]
  },
  {
   "cell_type": "code",
   "execution_count": 8,
   "metadata": {},
   "outputs": [
    {
     "name": "stdout",
     "output_type": "stream",
     "text": [
      "6\n",
      "9\n",
      "68\n",
      "11\n"
     ]
    },
    {
     "data": {
      "image/png": "[encoded data removed]",
      "text/plain": [
       "<Figure size 864x338.4 with 11 Axes>"
      ]
     },
     "metadata": {
      "needs_background": "light"
     },
     "output_type": "display_data"
    }
   ],
   "source": [
    "fig,axs = plt.subplots(2,5,figsize=(12,4.7),sharey='row')\n",
    "fig.subplots_adjust(wspace=.1)\n",
    "\n",
    "# resnet20 example\n",
    "name='resnet20'\n",
    "n = 272474\n",
    "n_samples,Ks,_,t_W_bd,GQ_ave = np.load(f'data/wass/{name}.npy',allow_pickle=True)\n",
    "\n",
    "axs[0,0].step(*GQ_ave[3000].get_distr(),where='post',color='#073642')\n",
    "axs[0,0].set_title(f\"{name.replace('_',' ')}, $n={n}$\")#, $n_v={n_samples}$\")\n",
    "\n",
    "axins = inset_axes(axs[0,0], \"40%\",\"70%\", loc='right', borderpad=1.2) # zoom = 6\n",
    "axins.step(*GQ_ave[3000].get_distr(),where='post',color='#073642')\n",
    "\n",
    "\n",
    "# sub region of the original image\n",
    "x1, x2, y1, y2 = -.2,.2,0,1\n",
    "axins.set_xlim(x1, x2)\n",
    "axins.set_ylim(y1, y2)\n",
    "\n",
    "axins.set_yticks([0,1])\n",
    "axins.set_xticks([x1,x2])\n",
    "\n",
    "ticks = np.unique([0,np.max(GQ_ave[3000].support)])\n",
    "axs[0,0].set_xticks(ticks)\n",
    "axs[0,0].set_xticklabels([f'{t:1.0f}' for t in ticks])\n",
    "\n",
    "\n",
    "axs[1,0].plot(Ks,12/(2*Ks-1),linestyle=':',color='#073642')\n",
    "axs[1,0].plot(Ks,t_W_bd/(GQ_ave[3000].support[-1]-GQ_ave[3000].support[0]),linestyle='None',marker='x',ms=4,color='#073642')\n",
    "axs[1,0].set_xscale('log')\n",
    "axs[1,0].set_yscale('log')\n",
    "\n",
    "axs[1,0].set_xlabel(f'Lanczos iterations $k$')\n",
    "\n",
    "# full spectrum examples\n",
    "for i,problem in enumerate(problems):\n",
    "    \n",
    "    i+=1\n",
    "    name = problem['name']\n",
    "    lam = np.load(f\"matrices/{problem['name']}_eigs.npy\")\n",
    "\n",
    "    n = len(lam)\n",
    "    A = sp.sparse.spdiags(lam,0,n,n)\n",
    "    \n",
    "    lb = np.min(lam)\n",
    "    ub = np.max(lam)\n",
    "    \n",
    "    # plot spectrum\n",
    "    axs[0,i].step(lam,np.arange(n)/n,where='post',color='#073642')\n",
    "    axs[0,i].set_title(f\"{name.replace('_',' ')}, $n={n}$\")#, $n_v={n_samples}$\")\n",
    "    \n",
    "    ticks = np.unique([np.min(lam),0,np.max(lam)])\n",
    "    axs[0,i].set_xticks(ticks)\n",
    "    axs[0,i].set_xticklabels([f'{t:1.0f}' for t in ticks])\n",
    "\n",
    "    # load data\n",
    "    n_samples,Ks,t_W,t_W_bd = np.load(f'data/wass/{name}.npy',allow_pickle=True)\n",
    "    print(n_samples)\n",
    "    \n",
    "    # plot ub\n",
    "    axs[1,i].plot(Ks,12/(2*Ks-1),linestyle=':',color='#073642')\n",
    "    \n",
    "    # plot GQ\n",
    "    axs[1,i].plot(Ks,t_W/(np.max(lam) - np.min(lam)),linestyle='None',marker='.',color='#073642')\n",
    "\n",
    "    # plot GQ_bound\n",
    "    axs[1,i].plot(Ks,t_W_bd/(np.max(lam) - np.min(lam)),linestyle='None',marker='x',ms=4,color='#073642')\n",
    "\n",
    "\n",
    "    # plot stagnations\n",
    "    if i in [1,2]:\n",
    "        stagnate = (np.min(lam[lam>1e-10])-np.max(lam[lam<-1e-10]))\n",
    "        stagnate *= np.sum(np.abs(lam)<1e-10)/len(lam)/(np.max(lam) - np.min(lam))\n",
    "        axs[1,i].plot([min(Ks),max(Ks)],[stagnate]*2,linewidth=1,linestyle='--',color='#cccccc')\n",
    "    \n",
    "    if i == 3:\n",
    "        stagnate = 1/n\n",
    "        axs[1,i].plot([min(Ks),max(Ks)],[stagnate]*2,linewidth=1,linestyle='-.',color='#cccccc')\n",
    "    \n",
    "    \n",
    "    axs[1,i].set_xscale('log')\n",
    "    axs[1,i].set_yscale('log')\n",
    "\n",
    "    axs[1,i].set_xlabel(f'Lanczos iterations $k$')\n",
    "\n",
    "axs[0,0].set_yticks([0,.2,.4,.6,.8,1])\n",
    "axs[0,0].set_yticklabels([0,'','','','',1])\n",
    "\n",
    "axs[1,0].set_yticks([1,1e-2,1e-4,1e-6])\n",
    "axs[1,0].set_ylim(5e-7,1)\n",
    "\n",
    "\n",
    "plt.savefig('imgs/tW_bounds.pdf',bbox_inches='tight')"
   ]
  },
  {
   "cell_type": "code",
   "execution_count": null,
   "metadata": {},
   "outputs": [],
   "source": []
  }
 ],
 "metadata": {
  "kernelspec": {
   "display_name": "Python 3",
   "language": "python",
   "name": "python3"
  },
  "language_info": {
   "codemirror_mode": {
    "name": "ipython",
    "version": 3
   },
   "file_extension": ".py",
   "mimetype": "text/x-python",
   "name": "python",
   "nbconvert_exporter": "python",
   "pygments_lexer": "ipython3",
   "version": "3.8.3"
  }
 },
 "nbformat": 4,
 "nbformat_minor": 4
}
