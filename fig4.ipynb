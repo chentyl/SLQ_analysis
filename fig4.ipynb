{
 "cells": [
  {
   "cell_type": "code",
   "execution_count": 1,
   "metadata": {},
   "outputs": [],
   "source": [
    "import numpy as np\n",
    "import scipy as sp\n",
    "from scipy import io,integrate,sparse\n",
    "import matplotlib.pyplot as plt\n",
    "from matplotlib.lines import Line2D\n",
    "import matplotlib.patches as mpatches\n",
    "\n",
    "from lanczos_bin import *\n",
    "\n",
    "from IPython.display import clear_output\n",
    "%load_ext autoreload\n",
    "%autoreload 2"
   ]
  },
  {
   "cell_type": "markdown",
   "metadata": {},
   "source": [
    "# Lanczos approx and bounds\n",
    "\n",
    "Want to illustrate:\n",
    "- average lanczos bounds over samples"
   ]
  },
  {
   "cell_type": "code",
   "execution_count": 2,
   "metadata": {},
   "outputs": [],
   "source": [
    "plt.rcParams['text.latex.preamble'] = r'\\renewcommand{\\vec}{\\mathbf}'\n",
    "plt.rc('text', usetex=True)\n",
    "plt.rc('font', family='serif')"
   ]
  },
  {
   "cell_type": "code",
   "execution_count": 3,
   "metadata": {},
   "outputs": [],
   "source": [
    "n = 1000\n",
    "\n",
    "lam = np.hstack([\n",
    "    np.linspace(0,1,n-n//5-n//5-n//20),\n",
    "    np.linspace(3,4,n//5),\n",
    "    np.linspace(5,8,n//5),\n",
    "    np.linspace(15.8,16,n//20),\n",
    "])\n",
    "\n",
    "lam += np.random.randn(n)/10\n",
    "#lam = np.load('matrices/California_SVD.npy').flatten()\n",
    "#n = len(lam)\n",
    "\n",
    "lam = np.sort(lam)\n",
    "\n",
    "lam /= np.max(lam)\n",
    "\n",
    "A = sp.sparse.spdiags(lam,0,n,n)"
   ]
  },
  {
   "cell_type": "code",
   "execution_count": 4,
   "metadata": {},
   "outputs": [],
   "source": [
    "# define CESM and averaged wCESM\n",
    "CESM = Distribution()\n",
    "CESM.from_weights(lam,np.ones(n)/n)"
   ]
  },
  {
   "cell_type": "code",
   "execution_count": 5,
   "metadata": {},
   "outputs": [
    {
     "data": {
      "image/png": "[encoded data removed]",
      "text/plain": [
       "<Figure size 864x216 with 3 Axes>"
      ]
     },
     "metadata": {
      "needs_background": "light"
     },
     "output_type": "display_data"
    }
   ],
   "source": [
    "eta = .01\n",
    "n_samples = 7\n",
    "eps = np.sqrt( (n+2)**(-1) * n_samples**(-1) * np.log(2*n/(eta)) )\n",
    "\n",
    "fig,axs = plt.subplots(1,3,figsize=(12,3))\n",
    "fig.subplots_adjust(wspace=.1)\n",
    "\n",
    "for i,k in enumerate([10,25,25]):\n",
    "    \n",
    "    np.random.seed(9) # for reproducibility\n",
    "\n",
    "    lb,ub = np.min(lam),np.max(lam)\n",
    "    GQ = []\n",
    "    GQ_upper = []\n",
    "    GQ_lower = []\n",
    "\n",
    "    v2_ave = np.zeros(n)\n",
    "\n",
    "    for J in range(n_samples):\n",
    "\n",
    "        v = np.random.randn(n)\n",
    "        v /= np.linalg.norm(v)\n",
    "\n",
    "        v2_ave += v**2\n",
    "\n",
    "        Q,(a_,b_) = exact_lanczos(A,v,k,reorth=True)\n",
    "\n",
    "        # define Gaussian quadrature\n",
    "        GQ.append(get_GQ_distr(a_[:k],b_[:k-1]))\n",
    "\n",
    "        # define upper and lower bounds\n",
    "        GQ_lower.append(get_GQ_lower_bound(GQ[-1],lb,ub))\n",
    "        GQ_upper.append(get_GQ_upper_bound(GQ[-1],lb,ub))\n",
    "\n",
    "    v2_ave /= n_samples\n",
    "\n",
    "    wCESM_ave = Distribution()\n",
    "    wCESM_ave.from_weights(lam,v2_ave)\n",
    "\n",
    "    # average bounds\n",
    "    GQ_ave = get_ave_distr(GQ)\n",
    "    GQ_lower_ave = get_ave_distr(GQ_lower)\n",
    "    GQ_upper_ave = get_ave_distr(GQ_upper)\n",
    "\n",
    "    # average bounds + eps\n",
    "    GQ_lower_ave_eps = add_constant(GQ_lower_ave,-eps,lb,ub)\n",
    "    GQ_upper_ave_eps = add_constant(GQ_upper_ave,eps,lb,ub)\n",
    "\n",
    "    \n",
    "    axs[i].fill_between(GQ_lower_ave_eps.support,\\\n",
    "                     GQ_lower_ave_eps.distr,\\\n",
    "                     GQ_upper_ave_eps.distr,\\\n",
    "                     step='post',color='#eeeeee')\n",
    "    step, = mystep(*GQ_lower_ave_eps.get_distr(),ax=axs[i],where='post',ls='-',lw=.5,color='#888888')\n",
    "    step, = mystep(*GQ_upper_ave_eps.get_distr(),ax=axs[i],where='post',ls='-',lw=.5,color='#888888')\n",
    "    \n",
    "    axs[i].fill_between(GQ_lower_ave.support,\\\n",
    "                     GQ_lower_ave.distr,\\\n",
    "                     GQ_upper_ave.distr,\\\n",
    "                     step='post',facecolor='#afbec4')\n",
    "    step, = mystep(*GQ_lower_ave.get_distr(),ax=axs[i],where='post',ls='-',lw=.5,color='#073642')\n",
    "    step, = mystep(*GQ_upper_ave.get_distr(),ax=axs[i],where='post',ls='-',lw=.5,color='#073642')\n",
    "\n",
    "    axs[i].step(*CESM.get_distr(),where='post',linestyle='-',color='#E76F51')\n",
    "\n",
    "    axs[i].step(*wCESM_ave.get_distr(),where='post',linestyle='--',lw=.5,color='#073642')\n",
    "\n",
    "    axs[i].step(*GQ_ave.get_distr(),where='post',lw='.75',color='#073642')\n",
    "    step, = mystep(*GQ_ave.get_distr(),ax=axs[i],where='post',color='#073642')\n",
    "\n",
    "    axs[i].set_title(f'$k={k}$')\n",
    "\n",
    "\n",
    "axs[0].get_shared_x_axes().join(axs[0], axs[1])\n",
    "axs[1].set_yticklabels([])\n",
    "axs[2].set_yticklabels([])\n",
    "\n",
    "# Create a Rectangle patch\n",
    "x1,x2,y1,y2 = .35,.6,.75,1\n",
    "\n",
    "rect = mpatches.Rectangle((x1,y1),x2-x1,y2-y1,linewidth=1,edgecolor='#E76F51',facecolor='none')\n",
    "\n",
    "# Add the patch to the Axes\n",
    "axs[1].add_patch(rect)\n",
    "\n",
    "axs[2].set_xlim(x1,x2)\n",
    "axs[2].set_ylim(y1,y2)\n",
    "axs[2].set_title(f'$k={k}$, zoomed')\n",
    "\n",
    "legend_elements = [\n",
    "                   Line2D([0],[0],linestyle='-',color='#E76F51',label=r'$\\Phi = \\Phi(\\vec{A})$'),\n",
    "                   Line2D([0],[0],linestyle='-',lw=.5,color='#073642',label=r'$\\langle\\Psi_i\\rangle = \\langle\\Psi(\\vec{A},\\vec{v}_i)\\rangle$'),\n",
    "                   Line2D([0],[0],linestyle='-',color='#073642',label=r'$\\langle\\textsf{gq}_k(\\Psi_i)\\rangle$'),\n",
    "                   mpatches.Patch(facecolor='#afbec4',edgecolor='#073642',linewidth=.5,label=r'$\\langle\\textsf{gq}_k^{\\downarrow}(\\Psi_i)\\rangle$, $\\langle\\textsf{gq}_k^{\\uparrow}(\\Psi_i)\\rangle$'),\n",
    "                   mpatches.Patch(facecolor='#eeeeee',edgecolor='#888888',linewidth=.5,label=r'$\\langle\\textsf{gq}_k^{\\downarrow}(\\Psi_i)\\rangle-t$, $\\langle\\textsf{gq}_k^{\\uparrow}(\\Psi_i)\\rangle+t$')\n",
    "]\n",
    "\n",
    "#axs[0].legend(handles=legend_elements,loc='lower right')\n",
    "#axs[0].set_title(f'$n_v={n_samples}$ ($\\eta = {eta}$, $t = {eps}$, $n={n}$)')\n",
    "\n",
    "plt.savefig('imgs/CESM_bounds.pdf',bbox_inches='tight')"
   ]
  },
  {
   "cell_type": "code",
   "execution_count": null,
   "metadata": {},
   "outputs": [],
   "source": []
  }
 ],
 "metadata": {
  "kernelspec": {
   "display_name": "Python 3",
   "language": "python",
   "name": "python3"
  },
  "language_info": {
   "codemirror_mode": {
    "name": "ipython",
    "version": 3
   },
   "file_extension": ".py",
   "mimetype": "text/x-python",
   "name": "python",
   "nbconvert_exporter": "python",
   "pygments_lexer": "ipython3",
   "version": "3.8.3"
  }
 },
 "nbformat": 4,
 "nbformat_minor": 4
}
