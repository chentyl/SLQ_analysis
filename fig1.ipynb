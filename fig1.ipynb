{
 "cells": [
  {
   "cell_type": "code",
   "execution_count": 1,
   "metadata": {},
   "outputs": [],
   "source": [
    "import numpy as np\n",
    "import scipy as sp\n",
    "from scipy import io,integrate,sparse\n",
    "import matplotlib.pyplot as plt\n",
    "from matplotlib.lines import Line2D\n",
    "\n",
    "from lanczos_bin import *\n",
    "\n",
    "from IPython.display import clear_output\n",
    "%load_ext autoreload\n",
    "%autoreload 2"
   ]
  },
  {
   "cell_type": "code",
   "execution_count": 2,
   "metadata": {},
   "outputs": [],
   "source": [
    "plt.rcParams['text.latex.preamble'] = r'\\renewcommand{\\vec}{\\mathbf}'\n",
    "plt.rc('text', usetex=True)\n",
    "plt.rc('font', family='serif')"
   ]
  },
  {
   "cell_type": "markdown",
   "metadata": {},
   "source": [
    "# weighted CESM vs CESM\n",
    "\n",
    "Want to illustrate:\n",
    "- weighted CESM is unbiased estimator\n",
    "- weighted CESM is probability distribution function\n",
    "- concentration as $n\\to\\infty$"
   ]
  },
  {
   "cell_type": "code",
   "execution_count": 3,
   "metadata": {},
   "outputs": [],
   "source": [
    "nodes = np.array([1,2,3,4])\n",
    "weights = np.array([.1,.4,.2,.3])"
   ]
  },
  {
   "cell_type": "code",
   "execution_count": 4,
   "metadata": {},
   "outputs": [
    {
     "data": {
      "image/png": "[encoded data removed]",
      "text/plain": [
       "<Figure size 432x136.8 with 3 Axes>"
      ]
     },
     "metadata": {
      "needs_background": "light"
     },
     "output_type": "display_data"
    }
   ],
   "source": [
    "np.random.seed(0) # for reproducibility\n",
    "\n",
    "fig,axs = plt.subplots(1,3,figsize=(6,1.9),sharey=True,sharex=True)\n",
    "fig.subplots_adjust(wspace=.1)\n",
    "\n",
    "axs = axs.flatten()\n",
    "for j,n in enumerate([100,1000,10000]):\n",
    "\n",
    "    # synthetic example\n",
    "    lam = np.hstack([\n",
    "        np.linspace(0,1,n-n//5-n//5-n//20),\n",
    "        np.linspace(3,4,n//5),\n",
    "        np.linspace(5,8,n//5),\n",
    "        np.linspace(15.8,16,n//20),\n",
    "    ])\n",
    "\n",
    "    lam += np.random.randn(n)/10\n",
    "    lam = np.sort(lam)\n",
    "    lam /= np.max(lam)\n",
    "\n",
    "    n_samples = 30\n",
    "\n",
    "    CESM = Distribution()\n",
    "    CESM.from_weights(lam,np.ones(n)/n)\n",
    "    \n",
    "    step = n//1000 if n > 1000 else 1 #downsample largest CESMs for plotting\n",
    "    axs[j].step(CESM.get_distr()[0][::step],CESM.get_distr()[1][::step],where='post',color='#E76F51',label='CESM')\n",
    "    axs[j].set_title(f'$n={n}$')\n",
    "    \n",
    "    for i in range(n_samples):\n",
    "\n",
    "        v = np.random.randn(n)\n",
    "        v /= np.linalg.norm(v)\n",
    "        \n",
    "        wCESM = Distribution()\n",
    "        wCESM.from_weights(lam,v**2)\n",
    "        \n",
    "        axs[j].step(*wCESM.get_distr(),where='post',lw=.75,color='#073642',alpha=.2)\n",
    "    \n",
    "legend_elements = [Line2D([0],[0],linestyle='-',color='#073642',\\\n",
    "                          label=r'$\\Phi(\\vec{A}_{n})$'),\n",
    "                   Line2D([0],[0],linestyle='-',lw=1,color='#073642',alpha=.2,\\\n",
    "                          label=r'$\\Psi(\\vec{A}_n,\\vec{v}_i)$'),\n",
    "             ]\n",
    "\n",
    "axs[0].set_xticks([0,1])\n",
    "axs[0].set_yticks([0,.2,.4,.6,.8,1])\n",
    "axs[0].set_yticklabels([0,'','','','',1])\n",
    "\n",
    "plt.savefig(f'imgs/WCESMs.pdf',bbox_inches='tight')"
   ]
  }
 ],
 "metadata": {
  "kernelspec": {
   "display_name": "Python 3",
   "language": "python",
   "name": "python3"
  },
  "language_info": {
   "codemirror_mode": {
    "name": "ipython",
    "version": 3
   },
   "file_extension": ".py",
   "mimetype": "text/x-python",
   "name": "python",
   "nbconvert_exporter": "python",
   "pygments_lexer": "ipython3",
   "version": "3.8.3"
  }
 },
 "nbformat": 4,
 "nbformat_minor": 4
}
