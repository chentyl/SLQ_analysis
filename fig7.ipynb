{
 "cells": [
  {
   "cell_type": "code",
   "execution_count": 1,
   "metadata": {},
   "outputs": [],
   "source": [
    "import numpy as np\n",
    "import scipy as sp\n",
    "import os\n",
    "from scipy import io,integrate,sparse\n",
    "import matplotlib.pyplot as plt\n",
    "from matplotlib.lines import Line2D\n",
    "\n",
    "from lanczos_bin import *\n",
    "\n",
    "from IPython.display import clear_output\n",
    "%load_ext autoreload\n",
    "%autoreload 2"
   ]
  },
  {
   "cell_type": "code",
   "execution_count": 2,
   "metadata": {},
   "outputs": [],
   "source": [
    "os.makedirs(\"data/fp\", exist_ok=True)"
   ]
  },
  {
   "cell_type": "code",
   "execution_count": 3,
   "metadata": {},
   "outputs": [],
   "source": [
    "plt.rcParams['text.latex.preamble'] = r'\\renewcommand{\\vec}{\\mathbf}'\n",
    "plt.rc('text', usetex=True)\n",
    "plt.rc('font', family='serif')"
   ]
  },
  {
   "cell_type": "code",
   "execution_count": 4,
   "metadata": {},
   "outputs": [],
   "source": [
    "problems = [{'name':'California',\n",
    "             'Ks':np.unique(np.logspace(1,np.log10(1200),15,dtype='int')),\n",
    "             'n_samples':6,\n",
    "            },\n",
    "            {'name':'Erdos992',\n",
    "             'Ks':np.unique(np.logspace(1,np.log10(800),15,dtype='int')),\n",
    "             'n_samples':9,\n",
    "            },\n",
    "            {'name':'MNIST_cov',\n",
    "             'Ks':np.unique(np.logspace(1,np.log10(500),15,dtype='int')),\n",
    "             'n_samples':68\n",
    "            },\n",
    "            {'name':'uniform',\n",
    "             'Ks':np.unique(np.logspace(1,np.log10(200),15,dtype='int')),\n",
    "             'n_samples':11\n",
    "            },]"
   ]
  },
  {
   "cell_type": "code",
   "execution_count": 5,
   "metadata": {},
   "outputs": [
    {
     "name": "stdout",
     "output_type": "stream",
     "text": [
      "California\n",
      "Erdos992\n",
      "MNIST_cov\n",
      "uniform\n"
     ]
    }
   ],
   "source": [
    "# generate data\n",
    "if True:\n",
    "    for problem in problems:\n",
    "\n",
    "        name = problem['name']\n",
    "        n_samples = problem['n_samples']\n",
    "        Ks = problem['Ks']\n",
    "\n",
    "        lam = np.load(f\"matrices/{name}_eigs.npy\")\n",
    "        \n",
    "        print(name)\n",
    "        np.save(f'data/fp/{name}_GQs',get_GQs(lam,n_samples,Ks,reorth=False),allow_pickle=True)"
   ]
  },
  {
   "cell_type": "code",
   "execution_count": 6,
   "metadata": {},
   "outputs": [
    {
     "name": "stdout",
     "output_type": "stream",
     "text": [
      "California\n",
      "Erdos992\n",
      "MNIST_cov\n",
      "uniform\n"
     ]
    }
   ],
   "source": [
    "# generate bounds\n",
    "if True:\n",
    "    for problem in problems:\n",
    "\n",
    "        name = problem['name']\n",
    "        lam = np.load(f\"matrices/{name}_eigs.npy\")\n",
    "\n",
    "        GQs,vs = np.load(f'data/fp/{name}_GQs.npy',allow_pickle=True)\n",
    "\n",
    "        print(name)\n",
    "        np.save(f'data/fp/{name}',W_experiment(GQs,lam,vs,np.min(lam),np.max(lam)),allow_pickle=True)"
   ]
  },
  {
   "cell_type": "code",
   "execution_count": 7,
   "metadata": {},
   "outputs": [
    {
     "data": {
      "image/png": "[encoded data removed]",
      "text/plain": [
       "<Figure size 864x201.6 with 4 Axes>"
      ]
     },
     "metadata": {
      "needs_background": "light"
     },
     "output_type": "display_data"
    }
   ],
   "source": [
    "fig,axs = plt.subplots(1,len(problems),figsize=(12,2.8),sharey='row')\n",
    "fig.subplots_adjust(wspace=.1)\n",
    "\n",
    "for i,problem in enumerate(problems):\n",
    "    \n",
    "    name = problem['name']\n",
    "    \n",
    "    lam = np.load(f\"matrices/{problem['name']}_eigs.npy\")\n",
    "    n = len(lam)\n",
    "    A = sp.sparse.spdiags(lam,0,n,n)\n",
    "    \n",
    "    lb = np.min(lam)\n",
    "    ub = np.max(lam)\n",
    "    \n",
    "    # plot spectrum\n",
    "    axs[i].set_title(f\"{name.replace('_',' ')}, $n={n}$\")#, $n_v={n_samples}$\")\n",
    "\n",
    "    # load data\n",
    "#    Ks,n_samples,t_KS,t_KS_bd,t_W,t_W_bd,GQ_ave = np.load(f'data/wass/{name}.npy',allow_pickle=True)\n",
    "\n",
    "    \n",
    "    # plot GQ\n",
    "    n_samples,Ks,t_W,_ = np.load(f'data/wass/{name}.npy',allow_pickle=True)\n",
    "    axs[i].plot(Ks,t_W/(np.max(lam)-np.min(lam)),linestyle='None',marker='.',color='#afbec4')\n",
    "    \n",
    "    # load data\n",
    "    n_samples,Ks,t_W,_ = np.load(f'data/fp/{name}.npy',allow_pickle=True)\n",
    "    axs[i].plot(Ks,t_W/(np.max(lam)-np.min(lam)),linestyle='None',marker='.',color='#073642')\n",
    "\n",
    "    # plot ub\n",
    "    axs[i].plot(Ks,12/(2*Ks-1),linestyle=':',color='#073642')\n",
    "\n",
    "    axs[i].set_xscale('log')\n",
    "    axs[i].set_yscale('log')\n",
    "\n",
    "    axs[i].set_xlabel(f'Lanczos iterations $k$')\n",
    "\n",
    "plt.savefig('imgs/tW_bounds_fp.pdf',bbox_inches='tight')"
   ]
  },
  {
   "cell_type": "code",
   "execution_count": null,
   "metadata": {},
   "outputs": [],
   "source": []
  }
 ],
 "metadata": {
  "kernelspec": {
   "display_name": "Python 3",
   "language": "python",
   "name": "python3"
  },
  "language_info": {
   "codemirror_mode": {
    "name": "ipython",
    "version": 3
   },
   "file_extension": ".py",
   "mimetype": "text/x-python",
   "name": "python",
   "nbconvert_exporter": "python",
   "pygments_lexer": "ipython3",
   "version": "3.8.3"
  }
 },
 "nbformat": 4,
 "nbformat_minor": 4
}
