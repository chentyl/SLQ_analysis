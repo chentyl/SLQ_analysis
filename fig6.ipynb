{
 "cells": [
  {
   "cell_type": "code",
   "execution_count": 1,
   "metadata": {},
   "outputs": [],
   "source": [
    "import numpy as np\n",
    "import scipy as sp\n",
    "import os\n",
    "from scipy import io,integrate,sparse\n",
    "import matplotlib.pyplot as plt\n",
    "from matplotlib.lines import Line2D\n",
    "import matplotlib.patches as mpatches\n",
    "\n",
    "from lanczos_bin import *\n",
    "\n",
    "from IPython.display import clear_output\n",
    "%load_ext autoreload\n",
    "%autoreload 2"
   ]
  },
  {
   "cell_type": "code",
   "execution_count": 2,
   "metadata": {},
   "outputs": [],
   "source": [
    "plt.rcParams['text.latex.preamble'] = r'\\renewcommand{\\vec}{\\mathbf}'\n",
    "plt.rc('text', usetex=True)\n",
    "plt.rc('font', family='serif')"
   ]
  },
  {
   "cell_type": "code",
   "execution_count": 3,
   "metadata": {},
   "outputs": [],
   "source": [
    "os.makedirs(\"data/add_pts\", exist_ok=True)"
   ]
  },
  {
   "cell_type": "code",
   "execution_count": 4,
   "metadata": {},
   "outputs": [],
   "source": [
    "def eps_rank_experiement(lam,Ks,n_samples,added_support,added_weight):\n",
    "    n = len(lam)\n",
    "    A = sp.sparse.spdiags(np.hstack([lam,added_support]),0,n+len(added_support),n+len(added_support))    \n",
    "    \n",
    "    lb,ub = np.min(lam),np.max(lam)\n",
    "\n",
    "    GQ = {k:[] for k in Ks}\n",
    "    GQ_lower = {k:[] for k in Ks}\n",
    "    GQ_upper = {k:[] for k in Ks}\n",
    "\n",
    "    weights = {k:np.zeros((n_samples,k)) for k in Ks}\n",
    "\n",
    "    vs = []\n",
    "\n",
    "    v2_ave = np.zeros(n+len(added_support))\n",
    "\n",
    "    np.random.seed(0) # for reproducibility and consistency across experimetns\n",
    "    for i in range(n_samples):\n",
    "\n",
    "        v = np.random.randn(n)\n",
    "        v /= np.linalg.norm(v)\n",
    "\n",
    "        v = np.hstack([v,added_weight])\n",
    "        v2_ave += v**2\n",
    "\n",
    "        Q,(a_,b_) = exact_lanczos(A,v,max(Ks),reorth=True)\n",
    "\n",
    "        for k in Ks:\n",
    "\n",
    "            # define Gaussian quadrature\n",
    "            GQ[k].append(get_GQ_distr(a_[:k],b_[:k-1],norm2=np.sum(v**2)))\n",
    "            weights[k][i] = GQ[k][-1].weights\n",
    "\n",
    "            # define upper and lower bounds\n",
    "            GQ_lower[k].append(get_GQ_lower_bound(GQ[k][-1],lb,ub))\n",
    "            GQ_upper[k].append(get_GQ_upper_bound(GQ[k][-1],lb,ub))\n",
    "\n",
    "    v2_ave /= n_samples\n",
    "\n",
    "    GQ_ave = {}\n",
    "    GQ_lower_ave = {}\n",
    "    GQ_upper_ave = {}\n",
    "\n",
    "    for k in Ks:\n",
    "       # average bounds\n",
    "        GQ_ave[k] = get_ave_distr(GQ[k])\n",
    "        GQ_lower_ave[k] = get_ave_distr(GQ_lower[k])\n",
    "        GQ_upper_ave[k] = get_ave_distr(GQ_upper[k]) \n",
    "        \n",
    "    return n_samples,v2_ave,GQ_ave,GQ_lower_ave,GQ_upper_ave"
   ]
  },
  {
   "cell_type": "code",
   "execution_count": 5,
   "metadata": {},
   "outputs": [],
   "source": [
    "problems = [{'name':'California',\n",
    "             'Ks':np.arange(1,300,dtype=np.int),\n",
    "             'n_samples':22,\n",
    "             'added_support':np.array([]),\n",
    "             'added_weight':np.array([]),\n",
    "             'x':1e-1,\n",
    "            },\n",
    "            {'name':'California',\n",
    "             'Ks':np.arange(1,300,dtype=np.int),\n",
    "             'n_samples':22,\n",
    "             'added_support':np.array([5e-2]),\n",
    "             'added_weight':np.array([np.sqrt(.005/2)]),\n",
    "             'x':1e-1,\n",
    "             'notes':'_addpts'\n",
    "            },\n",
    "            {'name':'California',\n",
    "             'Ks':np.arange(1,300,dtype=np.int),\n",
    "             'n_samples':22,\n",
    "             'added_support':np.array([5e-2]),\n",
    "             'added_weight':np.array([np.sqrt(.005*10)]),\n",
    "             'x':1e-1,\n",
    "             'notes':'_addpts1'\n",
    "            }]"
   ]
  },
  {
   "cell_type": "code",
   "execution_count": 6,
   "metadata": {},
   "outputs": [
    {
     "name": "stdout",
     "output_type": "stream",
     "text": [
      "California\n",
      "California_addpts\n",
      "California_addpts1\n"
     ]
    }
   ],
   "source": [
    "if True:\n",
    "    for problem in problems:\n",
    "        name = problem['name']\n",
    "\n",
    "        Ks = problem['Ks']\n",
    "        n_samples = problem['n_samples']\n",
    "\n",
    "        added_support = problem['added_support']\n",
    "        added_weight = problem['added_weight']\n",
    "\n",
    "        try:\n",
    "            notes = problem['notes']\n",
    "        except:\n",
    "            notes = ''\n",
    "\n",
    "        print(f'{name}{notes}')\n",
    "        lam = np.load(f\"matrices/{name}_eigs.npy\")\n",
    "        n = len(lam)\n",
    "\n",
    "        np.save(f'data/add_pts/{name}{notes}',eps_rank_experiement(lam,Ks,n_samples,added_support,added_weight),allow_pickle=True)"
   ]
  },
  {
   "cell_type": "code",
   "execution_count": 7,
   "metadata": {},
   "outputs": [
    {
     "data": {
      "image/png": "[encoded data removed]",
      "text/plain": [
       "<Figure size 864x216 with 3 Axes>"
      ]
     },
     "metadata": {
      "needs_background": "light"
     },
     "output_type": "display_data"
    }
   ],
   "source": [
    "fig,axs = plt.subplots(1,3,figsize=(12,3),sharey=True)\n",
    "fig.subplots_adjust(wspace=.1)\n",
    "\n",
    "\n",
    "for i,problem in enumerate(problems):\n",
    "    name = problem['name']\n",
    "    Ks = problem['Ks']\n",
    "\n",
    "    try:\n",
    "        notes = problem['notes']\n",
    "    except:\n",
    "        notes = ''\n",
    "        \n",
    "    added_support = problem['added_support']\n",
    "    added_weight = problem['added_weight']\n",
    "\n",
    "    lam = np.load(f\"matrices/{name}_eigs.npy\")\n",
    "    n = len(lam)\n",
    "\n",
    "    x = problem['x']\n",
    "    n = len(lam)\n",
    "    \n",
    "    def adjust_distr(x):\n",
    "        return np.sum(added_weight[added_support<=x]**2)\n",
    "\n",
    "    n_samples,v2_ave,GQ_ave,GQ_lower_ave,GQ_upper_ave = np.load(f'data/add_pts/{name}{notes}.npy',allow_pickle=True)\n",
    "  \n",
    "    eta = 0.01\n",
    "    eps = np.sqrt( (n+2)**(-1) * n_samples**(-1) * np.log(2*n/(eta)) )\n",
    "\n",
    "    \n",
    "    GQ_vals = np.array([GQ_ave[k](x)-adjust_distr(x) for k in Ks])\n",
    "    GQ_upper_vals = np.array([GQ_upper_ave[k](x)-adjust_distr(x) for k in Ks])\n",
    "    GQ_lower_vals = np.array([GQ_lower_ave[k](x)-adjust_distr(x) for k in Ks])\n",
    "    GQ_upper_eps_vals = np.array([np.clip(GQ_upper_ave[k](x)-adjust_distr(x)+eps,0,1) for k in Ks])\n",
    "    GQ_lower_eps_vals = np.array([np.clip(GQ_lower_ave[k](x)-adjust_distr(x)-eps,0,1) for k in Ks])\n",
    "\n",
    "#    GQ_upper_vals = np.maximum.accumulate(GQ_upper_vals[::-1])[::-1]\n",
    "#    GQ_lower_vals = np.maximum.accumulate(GQ_lower_vals)\n",
    "#    GQ_upper_eps_vals = np.maximum.accumulate(GQ_upper_eps_vals[::-1])[::-1]\n",
    "#    GQ_lower_eps_vals = np.maximum.accumulate(GQ_lower_eps_vals)\n",
    "\n",
    "    \n",
    "    true_val = np.count_nonzero(lam<x)/n #np.count_nonzero((lam<eps_upper)*(lam>eps_lower))/n\n",
    "    sample_val = np.sum(v2_ave[:n][lam<x])\n",
    "\n",
    "    v_offset = 0#sample_val\n",
    "\n",
    "    axs[i].axhline(true_val-v_offset,color='#E76F51')\n",
    "    axs[i].axhline(sample_val-v_offset,color='#E76F51',ls='--')\n",
    "    \n",
    "    axs[i].plot(Ks,GQ_vals-v_offset,ls='None',marker='.',color='#073642')\n",
    "\n",
    "    axs[i].fill_between(Ks,GQ_upper_eps_vals-v_offset,GQ_lower_eps_vals-v_offset,facecolor='#eeeeee')\n",
    "    axs[i].plot(Ks,GQ_upper_eps_vals-v_offset,ls='-',lw=.5,marker='None',color='#888888')\n",
    "    axs[i].plot(Ks,GQ_lower_eps_vals-v_offset,ls='-',lw=.5,marker='None',color='#888888')\n",
    "    \n",
    "    axs[i].fill_between(Ks,GQ_upper_vals-v_offset,GQ_lower_vals-v_offset,facecolor='#afbec4')\n",
    "    axs[i].plot(Ks,GQ_upper_vals-v_offset,ls='-',lw=.5,marker='None',color='#073642')\n",
    "    axs[i].plot(Ks,GQ_lower_vals-v_offset,ls='-',lw=.5,marker='None',color='#073642')\n",
    "\n",
    "\n",
    "axs[0].set_title(f\"{name.replace('_',' ')}, $n={n}$\")#, $x={x}$, $n_{{\\mathrm{{v}}}}={n_samples}$, $t={eps}$\")\n",
    "axs[1].set_title(f'$y=0.05$, $z^2=t/2$')\n",
    "axs[2].set_title(f'$y=0.05$, $z^2=10t$')\n",
    "\n",
    "\n",
    "axs[0].set_ylim(sample_val-v_offset-10*eps,sample_val-v_offset+3*eps)\n",
    "\n",
    "plt.savefig('imgs/epsrank_bounds_added_pts.pdf',bbox_inches='tight')"
   ]
  }
 ],
 "metadata": {
  "kernelspec": {
   "display_name": "Python 3",
   "language": "python",
   "name": "python3"
  },
  "language_info": {
   "codemirror_mode": {
    "name": "ipython",
    "version": 3
   },
   "file_extension": ".py",
   "mimetype": "text/x-python",
   "name": "python",
   "nbconvert_exporter": "python",
   "pygments_lexer": "ipython3",
   "version": "3.8.3"
  }
 },
 "nbformat": 4,
 "nbformat_minor": 4
}
